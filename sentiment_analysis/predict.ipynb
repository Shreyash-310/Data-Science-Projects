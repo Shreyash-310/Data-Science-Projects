{
 "cells": [
  {
   "cell_type": "code",
   "execution_count": 1,
   "metadata": {},
   "outputs": [],
   "source": [
    "import os\n",
    "import pandas as pd"
   ]
  },
  {
   "cell_type": "code",
   "execution_count": 2,
   "metadata": {},
   "outputs": [],
   "source": [
    "train = pd.read_csv('dataset/train.csv')\n",
    "test = pd.read_csv('dataset/test.csv')"
   ]
  },
  {
   "cell_type": "code",
   "execution_count": 6,
   "metadata": {},
   "outputs": [
    {
     "data": {
      "text/html": [
       "<div>\n",
       "<style scoped>\n",
       "    .dataframe tbody tr th:only-of-type {\n",
       "        vertical-align: middle;\n",
       "    }\n",
       "\n",
       "    .dataframe tbody tr th {\n",
       "        vertical-align: top;\n",
       "    }\n",
       "\n",
       "    .dataframe thead th {\n",
       "        text-align: right;\n",
       "    }\n",
       "</style>\n",
       "<table border=\"1\" class=\"dataframe\">\n",
       "  <thead>\n",
       "    <tr style=\"text-align: right;\">\n",
       "      <th></th>\n",
       "      <th>ID</th>\n",
       "      <th>Date</th>\n",
       "      <th>Time</th>\n",
       "      <th>Headline</th>\n",
       "      <th>News</th>\n",
       "      <th>Source</th>\n",
       "      <th>Field</th>\n",
       "      <th>Reaction/Sentiment</th>\n",
       "      <th>Polarity</th>\n",
       "      <th>Subjectivity</th>\n",
       "    </tr>\n",
       "  </thead>\n",
       "  <tbody>\n",
       "    <tr>\n",
       "      <th>0</th>\n",
       "      <td>99248</td>\n",
       "      <td>2002-04-02</td>\n",
       "      <td>00:00:00</td>\n",
       "      <td>Obama Lays Wreath at Arlington National Cemetery</td>\n",
       "      <td>Obama Lays Wreath at Arlington National Cemete...</td>\n",
       "      <td>online_post_1637</td>\n",
       "      <td>Politics</td>\n",
       "      <td>0.330012</td>\n",
       "      <td>0.000000</td>\n",
       "      <td>0.000000</td>\n",
       "    </tr>\n",
       "    <tr>\n",
       "      <th>1</th>\n",
       "      <td>10423</td>\n",
       "      <td>2008-09-20</td>\n",
       "      <td>00:00:00</td>\n",
       "      <td>A Look at the Health of the Chinese Economy</td>\n",
       "      <td>Tim Haywood, investment director business-unit...</td>\n",
       "      <td>new_channel_175</td>\n",
       "      <td>Finance</td>\n",
       "      <td>0.517397</td>\n",
       "      <td>0.100000</td>\n",
       "      <td>0.200000</td>\n",
       "    </tr>\n",
       "    <tr>\n",
       "      <th>2</th>\n",
       "      <td>18828</td>\n",
       "      <td>2012-01-28</td>\n",
       "      <td>00:00:00</td>\n",
       "      <td>Nouriel Roubini: Global Economy Not Back to 2008</td>\n",
       "      <td>Nouriel Roubini, NYU professor and chairman at...</td>\n",
       "      <td>new_channel_175</td>\n",
       "      <td>Finance</td>\n",
       "      <td>0.439257</td>\n",
       "      <td>0.000000</td>\n",
       "      <td>0.041667</td>\n",
       "    </tr>\n",
       "    <tr>\n",
       "      <th>3</th>\n",
       "      <td>27788</td>\n",
       "      <td>2015-03-01</td>\n",
       "      <td>00:06:00</td>\n",
       "      <td>Finland GDP Expands In Q4</td>\n",
       "      <td>Finland's economy expanded marginally in the t...</td>\n",
       "      <td>NaN</td>\n",
       "      <td>Finance</td>\n",
       "      <td>0.449774</td>\n",
       "      <td>-0.166667</td>\n",
       "      <td>0.166667</td>\n",
       "    </tr>\n",
       "    <tr>\n",
       "      <th>4</th>\n",
       "      <td>27789</td>\n",
       "      <td>2015-03-01</td>\n",
       "      <td>00:11:00</td>\n",
       "      <td>Tourism, govt spending buoys Thai economy in J...</td>\n",
       "      <td>Tourism and public spending continued to boost...</td>\n",
       "      <td>new_channel_1500</td>\n",
       "      <td>Finance</td>\n",
       "      <td>0.512907</td>\n",
       "      <td>0.133333</td>\n",
       "      <td>0.380556</td>\n",
       "    </tr>\n",
       "  </tbody>\n",
       "</table>\n",
       "</div>"
      ],
      "text/plain": [
       "      ID        Date      Time  \\\n",
       "0  99248  2002-04-02  00:00:00   \n",
       "1  10423  2008-09-20  00:00:00   \n",
       "2  18828  2012-01-28  00:00:00   \n",
       "3  27788  2015-03-01  00:06:00   \n",
       "4  27789  2015-03-01  00:11:00   \n",
       "\n",
       "                                            Headline  \\\n",
       "0   Obama Lays Wreath at Arlington National Cemetery   \n",
       "1        A Look at the Health of the Chinese Economy   \n",
       "2   Nouriel Roubini: Global Economy Not Back to 2008   \n",
       "3                          Finland GDP Expands In Q4   \n",
       "4  Tourism, govt spending buoys Thai economy in J...   \n",
       "\n",
       "                                                News            Source  \\\n",
       "0  Obama Lays Wreath at Arlington National Cemete...  online_post_1637   \n",
       "1  Tim Haywood, investment director business-unit...   new_channel_175   \n",
       "2  Nouriel Roubini, NYU professor and chairman at...   new_channel_175   \n",
       "3  Finland's economy expanded marginally in the t...               NaN   \n",
       "4  Tourism and public spending continued to boost...  new_channel_1500   \n",
       "\n",
       "      Field  Reaction/Sentiment  Polarity  Subjectivity  \n",
       "0  Politics            0.330012  0.000000      0.000000  \n",
       "1   Finance            0.517397  0.100000      0.200000  \n",
       "2   Finance            0.439257  0.000000      0.041667  \n",
       "3   Finance            0.449774 -0.166667      0.166667  \n",
       "4   Finance            0.512907  0.133333      0.380556  "
      ]
     },
     "execution_count": 6,
     "metadata": {},
     "output_type": "execute_result"
    }
   ],
   "source": [
    "train.head()"
   ]
  },
  {
   "cell_type": "code",
   "execution_count": 8,
   "metadata": {},
   "outputs": [
    {
     "data": {
      "text/plain": [
       "(2406, 10)"
      ]
     },
     "execution_count": 8,
     "metadata": {},
     "output_type": "execute_result"
    }
   ],
   "source": [
    "train.shape"
   ]
  },
  {
   "cell_type": "code",
   "execution_count": 5,
   "metadata": {},
   "outputs": [
    {
     "data": {
      "text/plain": [
       "ID                     0\n",
       "Date                  32\n",
       "Time                  54\n",
       "Headline              34\n",
       "News                  45\n",
       "Source                46\n",
       "Field                 29\n",
       "Reaction/Sentiment     0\n",
       "Polarity               0\n",
       "Subjectivity           0\n",
       "dtype: int64"
      ]
     },
     "execution_count": 5,
     "metadata": {},
     "output_type": "execute_result"
    }
   ],
   "source": [
    "train.isnull().sum()"
   ]
  },
  {
   "cell_type": "code",
   "execution_count": 9,
   "metadata": {},
   "outputs": [],
   "source": [
    "train1 = train.dropna()"
   ]
  },
  {
   "cell_type": "code",
   "execution_count": 11,
   "metadata": {},
   "outputs": [
    {
     "name": "stdout",
     "output_type": "stream",
     "text": [
      "(2406, 10) (2166, 10) (1022, 9)\n"
     ]
    }
   ],
   "source": [
    "print(train.shape, train1.shape, test.shape)"
   ]
  },
  {
   "cell_type": "code",
   "execution_count": 12,
   "metadata": {},
   "outputs": [
    {
     "name": "stdout",
     "output_type": "stream",
     "text": [
      "<class 'pandas.core.frame.DataFrame'>\n",
      "Index: 2166 entries, 0 to 2405\n",
      "Data columns (total 10 columns):\n",
      " #   Column              Non-Null Count  Dtype  \n",
      "---  ------              --------------  -----  \n",
      " 0   ID                  2166 non-null   int64  \n",
      " 1   Date                2166 non-null   object \n",
      " 2   Time                2166 non-null   object \n",
      " 3   Headline            2166 non-null   object \n",
      " 4   News                2166 non-null   object \n",
      " 5   Source              2166 non-null   object \n",
      " 6   Field               2166 non-null   object \n",
      " 7   Reaction/Sentiment  2166 non-null   float64\n",
      " 8   Polarity            2166 non-null   float64\n",
      " 9   Subjectivity        2166 non-null   float64\n",
      "dtypes: float64(3), int64(1), object(6)\n",
      "memory usage: 186.1+ KB\n"
     ]
    }
   ],
   "source": [
    "train1.info()"
   ]
  },
  {
   "cell_type": "code",
   "execution_count": null,
   "metadata": {},
   "outputs": [],
   "source": []
  },
  {
   "cell_type": "code",
   "execution_count": null,
   "metadata": {},
   "outputs": [],
   "source": []
  }
 ],
 "metadata": {
  "kernelspec": {
   "display_name": "Python 3",
   "language": "python",
   "name": "python3"
  },
  "language_info": {
   "codemirror_mode": {
    "name": "ipython",
    "version": 3
   },
   "file_extension": ".py",
   "mimetype": "text/x-python",
   "name": "python",
   "nbconvert_exporter": "python",
   "pygments_lexer": "ipython3",
   "version": "3.8.10"
  }
 },
 "nbformat": 4,
 "nbformat_minor": 2
}
