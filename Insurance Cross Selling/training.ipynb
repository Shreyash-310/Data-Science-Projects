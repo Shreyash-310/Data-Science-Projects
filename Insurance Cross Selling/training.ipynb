{
 "cells": [
  {
   "cell_type": "code",
   "execution_count": null,
   "metadata": {},
   "outputs": [],
   "source": [
    "# !pip3 install tensorflow==2.10.0"
   ]
  },
  {
   "cell_type": "code",
   "execution_count": 13,
   "metadata": {},
   "outputs": [],
   "source": [
    "import tensorflow as tf\n",
    "from tensorflow.keras.models import Sequential\n",
    "from tensorflow.keras.layers import Dense, Dropout\n",
    "from tensorflow.keras.optimizers import Adam\n",
    "from tensorflow.keras.callbacks import EarlyStopping, ReduceLROnPlateau"
   ]
  },
  {
   "cell_type": "code",
   "execution_count": 2,
   "metadata": {},
   "outputs": [],
   "source": [
    "import pandas as pd\n",
    "from sklearn.model_selection import train_test_split"
   ]
  },
  {
   "cell_type": "code",
   "execution_count": 3,
   "metadata": {},
   "outputs": [
    {
     "name": "stdout",
     "output_type": "stream",
     "text": [
      "2.10.0\n"
     ]
    }
   ],
   "source": [
    "print(tf.__version__)"
   ]
  },
  {
   "cell_type": "code",
   "execution_count": 4,
   "metadata": {},
   "outputs": [
    {
     "data": {
      "text/html": [
       "<div>\n",
       "<style scoped>\n",
       "    .dataframe tbody tr th:only-of-type {\n",
       "        vertical-align: middle;\n",
       "    }\n",
       "\n",
       "    .dataframe tbody tr th {\n",
       "        vertical-align: top;\n",
       "    }\n",
       "\n",
       "    .dataframe thead th {\n",
       "        text-align: right;\n",
       "    }\n",
       "</style>\n",
       "<table border=\"1\" class=\"dataframe\">\n",
       "  <thead>\n",
       "    <tr style=\"text-align: right;\">\n",
       "      <th></th>\n",
       "      <th>Gender</th>\n",
       "      <th>Age</th>\n",
       "      <th>Region_Code</th>\n",
       "      <th>Previously_Insured</th>\n",
       "      <th>Vehicle_Age</th>\n",
       "      <th>Vehicle_Damage</th>\n",
       "      <th>Annual_Premium</th>\n",
       "      <th>Policy_Sales_Channel</th>\n",
       "      <th>Vintage</th>\n",
       "      <th>Response</th>\n",
       "      <th>special_channel_152.0</th>\n",
       "      <th>special_channel_26.0</th>\n",
       "      <th>special_channels</th>\n",
       "      <th>is_young_driver</th>\n",
       "      <th>is_old_driver</th>\n",
       "      <th>is_special_region</th>\n",
       "    </tr>\n",
       "  </thead>\n",
       "  <tbody>\n",
       "    <tr>\n",
       "      <th>0</th>\n",
       "      <td>1.0</td>\n",
       "      <td>21</td>\n",
       "      <td>35.0</td>\n",
       "      <td>0</td>\n",
       "      <td>0.0</td>\n",
       "      <td>1.0</td>\n",
       "      <td>2.347749</td>\n",
       "      <td>124.0</td>\n",
       "      <td>187</td>\n",
       "      <td>0</td>\n",
       "      <td>0</td>\n",
       "      <td>0</td>\n",
       "      <td>0</td>\n",
       "      <td>1</td>\n",
       "      <td>0</td>\n",
       "      <td>0</td>\n",
       "    </tr>\n",
       "    <tr>\n",
       "      <th>1</th>\n",
       "      <td>1.0</td>\n",
       "      <td>43</td>\n",
       "      <td>28.0</td>\n",
       "      <td>0</td>\n",
       "      <td>2.0</td>\n",
       "      <td>1.0</td>\n",
       "      <td>1.911034</td>\n",
       "      <td>26.0</td>\n",
       "      <td>288</td>\n",
       "      <td>1</td>\n",
       "      <td>0</td>\n",
       "      <td>1</td>\n",
       "      <td>1</td>\n",
       "      <td>0</td>\n",
       "      <td>0</td>\n",
       "      <td>1</td>\n",
       "    </tr>\n",
       "    <tr>\n",
       "      <th>2</th>\n",
       "      <td>0.0</td>\n",
       "      <td>25</td>\n",
       "      <td>14.0</td>\n",
       "      <td>1</td>\n",
       "      <td>1.0</td>\n",
       "      <td>0.0</td>\n",
       "      <td>0.438761</td>\n",
       "      <td>152.0</td>\n",
       "      <td>254</td>\n",
       "      <td>0</td>\n",
       "      <td>1</td>\n",
       "      <td>0</td>\n",
       "      <td>1</td>\n",
       "      <td>0</td>\n",
       "      <td>0</td>\n",
       "      <td>0</td>\n",
       "    </tr>\n",
       "    <tr>\n",
       "      <th>3</th>\n",
       "      <td>0.0</td>\n",
       "      <td>35</td>\n",
       "      <td>1.0</td>\n",
       "      <td>0</td>\n",
       "      <td>0.0</td>\n",
       "      <td>1.0</td>\n",
       "      <td>-2.059687</td>\n",
       "      <td>156.0</td>\n",
       "      <td>76</td>\n",
       "      <td>0</td>\n",
       "      <td>0</td>\n",
       "      <td>0</td>\n",
       "      <td>0</td>\n",
       "      <td>0</td>\n",
       "      <td>0</td>\n",
       "      <td>0</td>\n",
       "    </tr>\n",
       "    <tr>\n",
       "      <th>4</th>\n",
       "      <td>0.0</td>\n",
       "      <td>36</td>\n",
       "      <td>15.0</td>\n",
       "      <td>1</td>\n",
       "      <td>0.0</td>\n",
       "      <td>0.0</td>\n",
       "      <td>0.008960</td>\n",
       "      <td>152.0</td>\n",
       "      <td>294</td>\n",
       "      <td>0</td>\n",
       "      <td>1</td>\n",
       "      <td>0</td>\n",
       "      <td>1</td>\n",
       "      <td>0</td>\n",
       "      <td>0</td>\n",
       "      <td>0</td>\n",
       "    </tr>\n",
       "  </tbody>\n",
       "</table>\n",
       "</div>"
      ],
      "text/plain": [
       "   Gender  Age  Region_Code  Previously_Insured  Vehicle_Age  Vehicle_Damage  \\\n",
       "0     1.0   21         35.0                   0          0.0             1.0   \n",
       "1     1.0   43         28.0                   0          2.0             1.0   \n",
       "2     0.0   25         14.0                   1          1.0             0.0   \n",
       "3     0.0   35          1.0                   0          0.0             1.0   \n",
       "4     0.0   36         15.0                   1          0.0             0.0   \n",
       "\n",
       "   Annual_Premium  Policy_Sales_Channel  Vintage  Response  \\\n",
       "0        2.347749                 124.0      187         0   \n",
       "1        1.911034                  26.0      288         1   \n",
       "2        0.438761                 152.0      254         0   \n",
       "3       -2.059687                 156.0       76         0   \n",
       "4        0.008960                 152.0      294         0   \n",
       "\n",
       "   special_channel_152.0  special_channel_26.0  special_channels  \\\n",
       "0                      0                     0                 0   \n",
       "1                      0                     1                 1   \n",
       "2                      1                     0                 1   \n",
       "3                      0                     0                 0   \n",
       "4                      1                     0                 1   \n",
       "\n",
       "   is_young_driver  is_old_driver  is_special_region  \n",
       "0                1              0                  0  \n",
       "1                0              0                  1  \n",
       "2                0              0                  0  \n",
       "3                0              0                  0  \n",
       "4                0              0                  0  "
      ]
     },
     "execution_count": 4,
     "metadata": {},
     "output_type": "execute_result"
    }
   ],
   "source": [
    "train = pd.read_csv('Insurance_Cross_Selling/train_transformed.csv')\n",
    "train.head()"
   ]
  },
  {
   "cell_type": "code",
   "execution_count": 5,
   "metadata": {},
   "outputs": [
    {
     "data": {
      "text/html": [
       "<div>\n",
       "<style scoped>\n",
       "    .dataframe tbody tr th:only-of-type {\n",
       "        vertical-align: middle;\n",
       "    }\n",
       "\n",
       "    .dataframe tbody tr th {\n",
       "        vertical-align: top;\n",
       "    }\n",
       "\n",
       "    .dataframe thead th {\n",
       "        text-align: right;\n",
       "    }\n",
       "</style>\n",
       "<table border=\"1\" class=\"dataframe\">\n",
       "  <thead>\n",
       "    <tr style=\"text-align: right;\">\n",
       "      <th></th>\n",
       "      <th>Gender</th>\n",
       "      <th>Age</th>\n",
       "      <th>Region_Code</th>\n",
       "      <th>Previously_Insured</th>\n",
       "      <th>Vehicle_Age</th>\n",
       "      <th>Vehicle_Damage</th>\n",
       "      <th>Annual_Premium</th>\n",
       "      <th>Policy_Sales_Channel</th>\n",
       "      <th>Vintage</th>\n",
       "      <th>special_channel_152.0</th>\n",
       "      <th>special_channel_26.0</th>\n",
       "      <th>special_channels</th>\n",
       "      <th>is_young_driver</th>\n",
       "      <th>is_old_driver</th>\n",
       "      <th>is_special_region</th>\n",
       "    </tr>\n",
       "  </thead>\n",
       "  <tbody>\n",
       "    <tr>\n",
       "      <th>0</th>\n",
       "      <td>0.0</td>\n",
       "      <td>20</td>\n",
       "      <td>47.0</td>\n",
       "      <td>0</td>\n",
       "      <td>1.0</td>\n",
       "      <td>0.0</td>\n",
       "      <td>-2.059687</td>\n",
       "      <td>160.0</td>\n",
       "      <td>228</td>\n",
       "      <td>0</td>\n",
       "      <td>0</td>\n",
       "      <td>0</td>\n",
       "      <td>1</td>\n",
       "      <td>0</td>\n",
       "      <td>0</td>\n",
       "    </tr>\n",
       "    <tr>\n",
       "      <th>1</th>\n",
       "      <td>1.0</td>\n",
       "      <td>47</td>\n",
       "      <td>28.0</td>\n",
       "      <td>0</td>\n",
       "      <td>0.0</td>\n",
       "      <td>1.0</td>\n",
       "      <td>0.399252</td>\n",
       "      <td>124.0</td>\n",
       "      <td>123</td>\n",
       "      <td>0</td>\n",
       "      <td>0</td>\n",
       "      <td>0</td>\n",
       "      <td>0</td>\n",
       "      <td>0</td>\n",
       "      <td>1</td>\n",
       "    </tr>\n",
       "    <tr>\n",
       "      <th>2</th>\n",
       "      <td>1.0</td>\n",
       "      <td>47</td>\n",
       "      <td>43.0</td>\n",
       "      <td>0</td>\n",
       "      <td>0.0</td>\n",
       "      <td>1.0</td>\n",
       "      <td>-2.059687</td>\n",
       "      <td>26.0</td>\n",
       "      <td>271</td>\n",
       "      <td>0</td>\n",
       "      <td>1</td>\n",
       "      <td>1</td>\n",
       "      <td>0</td>\n",
       "      <td>0</td>\n",
       "      <td>0</td>\n",
       "    </tr>\n",
       "    <tr>\n",
       "      <th>3</th>\n",
       "      <td>0.0</td>\n",
       "      <td>22</td>\n",
       "      <td>47.0</td>\n",
       "      <td>1</td>\n",
       "      <td>1.0</td>\n",
       "      <td>0.0</td>\n",
       "      <td>-0.516580</td>\n",
       "      <td>152.0</td>\n",
       "      <td>115</td>\n",
       "      <td>1</td>\n",
       "      <td>0</td>\n",
       "      <td>1</td>\n",
       "      <td>1</td>\n",
       "      <td>0</td>\n",
       "      <td>0</td>\n",
       "    </tr>\n",
       "    <tr>\n",
       "      <th>4</th>\n",
       "      <td>1.0</td>\n",
       "      <td>51</td>\n",
       "      <td>19.0</td>\n",
       "      <td>0</td>\n",
       "      <td>0.0</td>\n",
       "      <td>0.0</td>\n",
       "      <td>0.161634</td>\n",
       "      <td>124.0</td>\n",
       "      <td>148</td>\n",
       "      <td>0</td>\n",
       "      <td>0</td>\n",
       "      <td>0</td>\n",
       "      <td>0</td>\n",
       "      <td>0</td>\n",
       "      <td>0</td>\n",
       "    </tr>\n",
       "  </tbody>\n",
       "</table>\n",
       "</div>"
      ],
      "text/plain": [
       "   Gender  Age  Region_Code  Previously_Insured  Vehicle_Age  Vehicle_Damage  \\\n",
       "0     0.0   20         47.0                   0          1.0             0.0   \n",
       "1     1.0   47         28.0                   0          0.0             1.0   \n",
       "2     1.0   47         43.0                   0          0.0             1.0   \n",
       "3     0.0   22         47.0                   1          1.0             0.0   \n",
       "4     1.0   51         19.0                   0          0.0             0.0   \n",
       "\n",
       "   Annual_Premium  Policy_Sales_Channel  Vintage  special_channel_152.0  \\\n",
       "0       -2.059687                 160.0      228                      0   \n",
       "1        0.399252                 124.0      123                      0   \n",
       "2       -2.059687                  26.0      271                      0   \n",
       "3       -0.516580                 152.0      115                      1   \n",
       "4        0.161634                 124.0      148                      0   \n",
       "\n",
       "   special_channel_26.0  special_channels  is_young_driver  is_old_driver  \\\n",
       "0                     0                 0                1              0   \n",
       "1                     0                 0                0              0   \n",
       "2                     1                 1                0              0   \n",
       "3                     0                 1                1              0   \n",
       "4                     0                 0                0              0   \n",
       "\n",
       "   is_special_region  \n",
       "0                  0  \n",
       "1                  1  \n",
       "2                  0  \n",
       "3                  0  \n",
       "4                  0  "
      ]
     },
     "execution_count": 5,
     "metadata": {},
     "output_type": "execute_result"
    }
   ],
   "source": [
    "test = pd.read_csv('Insurance_Cross_Selling/test_transformed.csv')\n",
    "test.head()"
   ]
  },
  {
   "cell_type": "code",
   "execution_count": 6,
   "metadata": {},
   "outputs": [],
   "source": [
    "X,y = train.drop('Response',axis=1), train['Response']"
   ]
  },
  {
   "cell_type": "code",
   "execution_count": 7,
   "metadata": {},
   "outputs": [],
   "source": [
    "X_train, X_test, y_train, y_test = train_test_split(X, y, test_size = 0.3, random_state = 42)"
   ]
  },
  {
   "cell_type": "code",
   "execution_count": 8,
   "metadata": {},
   "outputs": [
    {
     "name": "stdout",
     "output_type": "stream",
     "text": [
      "(8053358, 15) (3451440, 15) (8053358,) (3451440,)\n"
     ]
    }
   ],
   "source": [
    "print(X_train.shape, X_test.shape, y_train.shape, y_test.shape)"
   ]
  },
  {
   "cell_type": "code",
   "execution_count": 9,
   "metadata": {},
   "outputs": [
    {
     "name": "stdout",
     "output_type": "stream",
     "text": [
      "Model: \"sequential\"\n",
      "_________________________________________________________________\n",
      " Layer (type)                Output Shape              Param #   \n",
      "=================================================================\n",
      " dense (Dense)               (None, 64)                1024      \n",
      "                                                                 \n",
      " dense_1 (Dense)             (None, 32)                2080      \n",
      "                                                                 \n",
      " dense_2 (Dense)             (None, 16)                528       \n",
      "                                                                 \n",
      " dense_3 (Dense)             (None, 1)                 17        \n",
      "                                                                 \n",
      "=================================================================\n",
      "Total params: 3,649\n",
      "Trainable params: 3,649\n",
      "Non-trainable params: 0\n",
      "_________________________________________________________________\n"
     ]
    },
    {
     "name": "stderr",
     "output_type": "stream",
     "text": [
      "2024-08-01 12:16:40.638544: I tensorflow/core/platform/cpu_feature_guard.cc:193] This TensorFlow binary is optimized with oneAPI Deep Neural Network Library (oneDNN) to use the following CPU instructions in performance-critical operations:  AVX2 AVX512F AVX512_VNNI FMA\n",
      "To enable them in other operations, rebuild TensorFlow with the appropriate compiler flags.\n",
      "2024-08-01 12:16:41.021422: I tensorflow/core/common_runtime/gpu/gpu_device.cc:1616] Created device /job:localhost/replica:0/task:0/device:GPU:0 with 9706 MB memory:  -> device: 0, name: NVIDIA GeForce GTX 1080 Ti, pci bus id: 0000:b3:00.0, compute capability: 6.1\n"
     ]
    }
   ],
   "source": [
    "# Define the model\n",
    "model = Sequential()\n",
    "\n",
    "# Input Layer and first hidden layer\n",
    "model.add(Dense(units=64, activation='relu',input_shape=(X_train.shape[1],)))\n",
    "\n",
    "# Add more hidden layer\n",
    "model.add(Dense(units=32, activation='relu'))\n",
    "model.add(Dense(units=16, activation='relu'))\n",
    "\n",
    "# Output layer\n",
    "model.add(Dense(units=1, activation='sigmoid'))\n",
    "\n",
    "# compile the model\n",
    "model.compile(optimizer='adam', loss='binary_crossentropy', metrics=['accuracy'])\n",
    "\n",
    "model.summary()"
   ]
  },
  {
   "cell_type": "code",
   "execution_count": 11,
   "metadata": {},
   "outputs": [],
   "source": [
    "# Train the model\n",
    "# Use batch size and epochs suitable for your dataset size and available resources\n",
    "batch_size = 128  # Adjust based on your GPU/CPU capacity\n",
    "epochs = 10  # Adjust based on how long you can train the model"
   ]
  },
  {
   "cell_type": "code",
   "execution_count": 12,
   "metadata": {},
   "outputs": [
    {
     "name": "stdout",
     "output_type": "stream",
     "text": [
      "Epoch 1/10\n",
      "50334/50334 [==============================] - 197s 4ms/step - loss: 0.2702 - accuracy: 0.8763 - val_loss: 0.2658 - val_accuracy: 0.8769\n",
      "Epoch 2/10\n",
      "50334/50334 [==============================] - 200s 4ms/step - loss: 0.2654 - accuracy: 0.8770 - val_loss: 0.2651 - val_accuracy: 0.8769\n",
      "Epoch 3/10\n",
      "50334/50334 [==============================] - 197s 4ms/step - loss: 0.2649 - accuracy: 0.8770 - val_loss: 0.2701 - val_accuracy: 0.8769\n",
      "Epoch 4/10\n",
      "50334/50334 [==============================] - 196s 4ms/step - loss: 0.2646 - accuracy: 0.8770 - val_loss: 0.2646 - val_accuracy: 0.8769\n",
      "Epoch 5/10\n",
      "50334/50334 [==============================] - 197s 4ms/step - loss: 0.2644 - accuracy: 0.8770 - val_loss: 0.2644 - val_accuracy: 0.8769\n",
      "Epoch 6/10\n",
      "50334/50334 [==============================] - 196s 4ms/step - loss: 0.2642 - accuracy: 0.8770 - val_loss: 0.2643 - val_accuracy: 0.8765\n",
      "Epoch 7/10\n",
      "50334/50334 [==============================] - 197s 4ms/step - loss: 0.2640 - accuracy: 0.8770 - val_loss: 0.2643 - val_accuracy: 0.8769\n",
      "Epoch 8/10\n",
      "50334/50334 [==============================] - 197s 4ms/step - loss: 0.2639 - accuracy: 0.8770 - val_loss: 0.2639 - val_accuracy: 0.8769\n",
      "Epoch 9/10\n",
      "50334/50334 [==============================] - 199s 4ms/step - loss: 0.2639 - accuracy: 0.8770 - val_loss: 0.2642 - val_accuracy: 0.8769\n",
      "Epoch 10/10\n",
      "50334/50334 [==============================] - 197s 4ms/step - loss: 0.2638 - accuracy: 0.8770 - val_loss: 0.2642 - val_accuracy: 0.8769\n"
     ]
    }
   ],
   "source": [
    "history = model.fit(X_train, y_train, epochs=epochs, batch_size=batch_size, validation_split=0.2)"
   ]
  },
  {
   "cell_type": "markdown",
   "metadata": {},
   "source": [
    "Modify the model"
   ]
  },
  {
   "cell_type": "code",
   "execution_count": 14,
   "metadata": {},
   "outputs": [
    {
     "name": "stdout",
     "output_type": "stream",
     "text": [
      "Model: \"sequential_1\"\n",
      "_________________________________________________________________\n",
      " Layer (type)                Output Shape              Param #   \n",
      "=================================================================\n",
      " dense_4 (Dense)             (None, 128)               2048      \n",
      "                                                                 \n",
      " dropout (Dropout)           (None, 128)               0         \n",
      "                                                                 \n",
      " dense_5 (Dense)             (None, 64)                8256      \n",
      "                                                                 \n",
      " dropout_1 (Dropout)         (None, 64)                0         \n",
      "                                                                 \n",
      " dense_6 (Dense)             (None, 32)                2080      \n",
      "                                                                 \n",
      " dropout_2 (Dropout)         (None, 32)                0         \n",
      "                                                                 \n",
      " dense_7 (Dense)             (None, 16)                528       \n",
      "                                                                 \n",
      " dense_8 (Dense)             (None, 1)                 17        \n",
      "                                                                 \n",
      "=================================================================\n",
      "Total params: 12,929\n",
      "Trainable params: 12,929\n",
      "Non-trainable params: 0\n",
      "_________________________________________________________________\n"
     ]
    }
   ],
   "source": [
    "# Define the model\n",
    "model1 = Sequential()\n",
    "\n",
    "# Input Layer and first hidden layer\n",
    "model1.add(Dense(units=128, activation='relu',input_shape=(X_train.shape[1],)))\n",
    "model1.add(Dropout(0.5))\n",
    "\n",
    "# Add more hidden layer\n",
    "model1.add(Dense(units=64, activation='relu'))\n",
    "model1.add(Dropout(0.5))\n",
    "model1.add(Dense(units=32, activation='relu'))\n",
    "model1.add(Dropout(0.5))\n",
    "model1.add(Dense(units=16, activation='relu'))\n",
    "\n",
    "# Output layer\n",
    "model1.add(Dense(units=1, activation='sigmoid'))\n",
    "\n",
    "# compile the model\n",
    "model1.compile(optimizer=Adam(learning_rate=0.001), loss='binary_crossentropy', metrics=['accuracy'])\n",
    "\n",
    "model1.summary()"
   ]
  },
  {
   "cell_type": "code",
   "execution_count": 15,
   "metadata": {},
   "outputs": [],
   "source": [
    "early_stopping = EarlyStopping(monitor='val_loss', patience=5, restore_best_weights=True)\n",
    "\n",
    "reduce_lr = ReduceLROnPlateau(monitor='val_loss', factor=0.2, patience=2, min_lr=0.0001)"
   ]
  },
  {
   "cell_type": "code",
   "execution_count": 16,
   "metadata": {},
   "outputs": [
    {
     "name": "stdout",
     "output_type": "stream",
     "text": [
      "Epoch 1/50\n",
      "50334/50334 [==============================] - 222s 4ms/step - loss: 0.2868 - accuracy: 0.8766 - val_loss: 0.2915 - val_accuracy: 0.8769 - lr: 0.0010\n",
      "Epoch 2/50\n",
      "50334/50334 [==============================] - 220s 4ms/step - loss: 0.2718 - accuracy: 0.8770 - val_loss: 0.2814 - val_accuracy: 0.8769 - lr: 0.0010\n",
      "Epoch 3/50\n",
      "50334/50334 [==============================] - 221s 4ms/step - loss: 0.2709 - accuracy: 0.8770 - val_loss: 0.2801 - val_accuracy: 0.8769 - lr: 0.0010\n",
      "Epoch 4/50\n",
      "50334/50334 [==============================] - 220s 4ms/step - loss: 0.2706 - accuracy: 0.8770 - val_loss: 0.2763 - val_accuracy: 0.8769 - lr: 0.0010\n",
      "Epoch 5/50\n",
      "50334/50334 [==============================] - 217s 4ms/step - loss: 0.2703 - accuracy: 0.8770 - val_loss: 0.2787 - val_accuracy: 0.8769 - lr: 0.0010\n",
      "Epoch 6/50\n",
      "50334/50334 [==============================] - 217s 4ms/step - loss: 0.2703 - accuracy: 0.8770 - val_loss: 0.2756 - val_accuracy: 0.8769 - lr: 0.0010\n",
      "Epoch 7/50\n",
      "50334/50334 [==============================] - 215s 4ms/step - loss: 0.2703 - accuracy: 0.8770 - val_loss: 0.2868 - val_accuracy: 0.8769 - lr: 0.0010\n",
      "Epoch 8/50\n",
      "50334/50334 [==============================] - 217s 4ms/step - loss: 0.2702 - accuracy: 0.8770 - val_loss: 0.2796 - val_accuracy: 0.8769 - lr: 0.0010\n",
      "Epoch 9/50\n",
      "50334/50334 [==============================] - 214s 4ms/step - loss: 0.2682 - accuracy: 0.8770 - val_loss: 0.2802 - val_accuracy: 0.8769 - lr: 2.0000e-04\n",
      "Epoch 10/50\n",
      "50334/50334 [==============================] - 216s 4ms/step - loss: 0.2681 - accuracy: 0.8770 - val_loss: 0.2851 - val_accuracy: 0.8769 - lr: 2.0000e-04\n",
      "Epoch 11/50\n",
      "50334/50334 [==============================] - 214s 4ms/step - loss: 0.2677 - accuracy: 0.8770 - val_loss: 0.2870 - val_accuracy: 0.8769 - lr: 1.0000e-04\n"
     ]
    }
   ],
   "source": [
    "history1 = model1.fit(X_train, y_train, epochs=50,  batch_size=128, validation_split=0.2,\n",
    "                      callbacks=[early_stopping, reduce_lr])"
   ]
  },
  {
   "cell_type": "markdown",
   "metadata": {},
   "source": [
    "Modifying model's activation function to elu"
   ]
  },
  {
   "cell_type": "code",
   "execution_count": 17,
   "metadata": {},
   "outputs": [
    {
     "name": "stdout",
     "output_type": "stream",
     "text": [
      "Model: \"sequential_2\"\n",
      "_________________________________________________________________\n",
      " Layer (type)                Output Shape              Param #   \n",
      "=================================================================\n",
      " dense_9 (Dense)             (None, 128)               2048      \n",
      "                                                                 \n",
      " dropout_3 (Dropout)         (None, 128)               0         \n",
      "                                                                 \n",
      " dense_10 (Dense)            (None, 64)                8256      \n",
      "                                                                 \n",
      " dropout_4 (Dropout)         (None, 64)                0         \n",
      "                                                                 \n",
      " dense_11 (Dense)            (None, 32)                2080      \n",
      "                                                                 \n",
      " dropout_5 (Dropout)         (None, 32)                0         \n",
      "                                                                 \n",
      " dense_12 (Dense)            (None, 16)                528       \n",
      "                                                                 \n",
      " dense_13 (Dense)            (None, 1)                 17        \n",
      "                                                                 \n",
      "=================================================================\n",
      "Total params: 12,929\n",
      "Trainable params: 12,929\n",
      "Non-trainable params: 0\n",
      "_________________________________________________________________\n"
     ]
    }
   ],
   "source": [
    "# Define the model\n",
    "model2 = Sequential()\n",
    "\n",
    "# Input Layer and first hidden layer\n",
    "model2.add(Dense(units=128, activation='elu',input_shape=(X_train.shape[1],)))\n",
    "model2.add(Dropout(0.5))\n",
    "\n",
    "# Add more hidden layer\n",
    "model2.add(Dense(units=64, activation='elu'))\n",
    "model2.add(Dropout(0.5))\n",
    "model2.add(Dense(units=32, activation='elu'))\n",
    "model2.add(Dropout(0.5))\n",
    "model2.add(Dense(units=16, activation='elu'))\n",
    "\n",
    "# Output layer\n",
    "model2.add(Dense(units=1, activation='sigmoid'))\n",
    "\n",
    "# compile the model\n",
    "model2.compile(optimizer=Adam(learning_rate=0.001), loss='binary_crossentropy', metrics=['accuracy'])\n",
    "\n",
    "model2.summary()"
   ]
  },
  {
   "cell_type": "code",
   "execution_count": 18,
   "metadata": {},
   "outputs": [
    {
     "name": "stdout",
     "output_type": "stream",
     "text": [
      "Epoch 1/50\n",
      "50334/50334 [==============================] - 224s 4ms/step - loss: 0.2852 - accuracy: 0.8764 - val_loss: 0.2684 - val_accuracy: 0.8769 - lr: 0.0010\n",
      "Epoch 2/50\n",
      "50334/50334 [==============================] - 205s 4ms/step - loss: 0.2706 - accuracy: 0.8769 - val_loss: 0.2689 - val_accuracy: 0.8769 - lr: 0.0010\n",
      "Epoch 3/50\n",
      "50334/50334 [==============================] - 206s 4ms/step - loss: 0.2700 - accuracy: 0.8769 - val_loss: 0.2689 - val_accuracy: 0.8769 - lr: 0.0010\n",
      "Epoch 4/50\n",
      "50334/50334 [==============================] - 207s 4ms/step - loss: 0.2679 - accuracy: 0.8770 - val_loss: 0.2742 - val_accuracy: 0.8769 - lr: 2.0000e-04\n",
      "Epoch 5/50\n",
      "50334/50334 [==============================] - 208s 4ms/step - loss: 0.2676 - accuracy: 0.8770 - val_loss: 0.2697 - val_accuracy: 0.8769 - lr: 2.0000e-04\n",
      "Epoch 6/50\n",
      "50334/50334 [==============================] - 208s 4ms/step - loss: 0.2672 - accuracy: 0.8770 - val_loss: 0.2697 - val_accuracy: 0.8769 - lr: 1.0000e-04\n"
     ]
    }
   ],
   "source": [
    "history2 = model2.fit(X_train, y_train, epochs=50,  batch_size=128, validation_split=0.2,\n",
    "                      callbacks=[early_stopping, reduce_lr])"
   ]
  },
  {
   "cell_type": "markdown",
   "metadata": {},
   "source": [
    "Modifying the model with L2 regularization"
   ]
  },
  {
   "cell_type": "code",
   "execution_count": 19,
   "metadata": {},
   "outputs": [],
   "source": [
    "from tensorflow.keras.regularizers import l2"
   ]
  },
  {
   "cell_type": "code",
   "execution_count": 25,
   "metadata": {},
   "outputs": [
    {
     "name": "stdout",
     "output_type": "stream",
     "text": [
      "Model: \"sequential_8\"\n",
      "_________________________________________________________________\n",
      " Layer (type)                Output Shape              Param #   \n",
      "=================================================================\n",
      " dense_29 (Dense)            (None, 128)               2048      \n",
      "                                                                 \n",
      " dropout_14 (Dropout)        (None, 128)               0         \n",
      "                                                                 \n",
      " dense_30 (Dense)            (None, 64)                8256      \n",
      "                                                                 \n",
      " dropout_15 (Dropout)        (None, 64)                0         \n",
      "                                                                 \n",
      " dense_31 (Dense)            (None, 32)                2080      \n",
      "                                                                 \n",
      " dropout_16 (Dropout)        (None, 32)                0         \n",
      "                                                                 \n",
      " dense_32 (Dense)            (None, 16)                528       \n",
      "                                                                 \n",
      " dense_33 (Dense)            (None, 1)                 17        \n",
      "                                                                 \n",
      "=================================================================\n",
      "Total params: 12,929\n",
      "Trainable params: 12,929\n",
      "Non-trainable params: 0\n",
      "_________________________________________________________________\n"
     ]
    }
   ],
   "source": [
    "# Define the model\n",
    "model3 = Sequential()\n",
    "\n",
    "# Input Layer and first hidden layer\n",
    "model3.add(Dense(units=128, activation='relu',input_shape=(X_train.shape[1],), kernel_regularizer=l2(0.01)))\n",
    "model3.add(Dropout(0.5))\n",
    "\n",
    "# Add more hidden layer\n",
    "model3.add(Dense(units=64, activation='relu', kernel_regularizer=l2(0.01)))\n",
    "model3.add(Dropout(0.5))\n",
    "model3.add(Dense(units=32, activation='relu', kernel_regularizer=l2(0.01)))\n",
    "model3.add(Dropout(0.5))\n",
    "model3.add(Dense(units=16, activation='relu', kernel_regularizer=l2(0.01)))\n",
    "\n",
    "# Output layer\n",
    "model3.add(Dense(units=1, activation='sigmoid', kernel_regularizer=l2(0.01)))\n",
    "\n",
    "# compile the model\n",
    "model3.compile(optimizer=Adam(learning_rate=0.001), loss='binary_crossentropy', metrics=['accuracy'])\n",
    "\n",
    "model3.summary()"
   ]
  },
  {
   "cell_type": "code",
   "execution_count": 26,
   "metadata": {},
   "outputs": [
    {
     "name": "stdout",
     "output_type": "stream",
     "text": [
      "Epoch 1/50\n",
      "50334/50334 [==============================] - 246s 5ms/step - loss: 0.3861 - accuracy: 0.8768 - val_loss: 0.3655 - val_accuracy: 0.8769 - lr: 0.0010\n",
      "Epoch 2/50\n",
      "50334/50334 [==============================] - 248s 5ms/step - loss: 0.3675 - accuracy: 0.8770 - val_loss: 0.3649 - val_accuracy: 0.8769 - lr: 0.0010\n",
      "Epoch 3/50\n",
      "50334/50334 [==============================] - 247s 5ms/step - loss: 0.3674 - accuracy: 0.8770 - val_loss: 0.3639 - val_accuracy: 0.8769 - lr: 0.0010\n",
      "Epoch 4/50\n",
      "50334/50334 [==============================] - 246s 5ms/step - loss: 0.3673 - accuracy: 0.8770 - val_loss: 0.3665 - val_accuracy: 0.8769 - lr: 0.0010\n",
      "Epoch 5/50\n",
      "50334/50334 [==============================] - 243s 5ms/step - loss: 0.3673 - accuracy: 0.8770 - val_loss: 0.3651 - val_accuracy: 0.8769 - lr: 0.0010\n",
      "Epoch 6/50\n",
      "50334/50334 [==============================] - 244s 5ms/step - loss: 0.3657 - accuracy: 0.8770 - val_loss: 0.3636 - val_accuracy: 0.8769 - lr: 2.0000e-04\n",
      "Epoch 7/50\n",
      "50334/50334 [==============================] - 246s 5ms/step - loss: 0.3656 - accuracy: 0.8770 - val_loss: 0.3637 - val_accuracy: 0.8769 - lr: 2.0000e-04\n",
      "Epoch 8/50\n",
      "50334/50334 [==============================] - 243s 5ms/step - loss: 0.3656 - accuracy: 0.8770 - val_loss: 0.3636 - val_accuracy: 0.8769 - lr: 2.0000e-04\n",
      "Epoch 9/50\n",
      "50334/50334 [==============================] - 244s 5ms/step - loss: 0.3654 - accuracy: 0.8770 - val_loss: 0.3638 - val_accuracy: 0.8769 - lr: 1.0000e-04\n",
      "Epoch 10/50\n",
      "50334/50334 [==============================] - 244s 5ms/step - loss: 0.3654 - accuracy: 0.8770 - val_loss: 0.3636 - val_accuracy: 0.8769 - lr: 1.0000e-04\n",
      "Epoch 11/50\n",
      "50334/50334 [==============================] - 243s 5ms/step - loss: 0.3654 - accuracy: 0.8770 - val_loss: 0.3636 - val_accuracy: 0.8769 - lr: 1.0000e-04\n",
      "Epoch 12/50\n",
      "50334/50334 [==============================] - 245s 5ms/step - loss: 0.3654 - accuracy: 0.8770 - val_loss: 0.3636 - val_accuracy: 0.8769 - lr: 1.0000e-04\n",
      "Epoch 13/50\n",
      "50334/50334 [==============================] - 242s 5ms/step - loss: 0.3654 - accuracy: 0.8770 - val_loss: 0.3634 - val_accuracy: 0.8769 - lr: 1.0000e-04\n",
      "Epoch 14/50\n",
      "50334/50334 [==============================] - 244s 5ms/step - loss: 0.3654 - accuracy: 0.8770 - val_loss: 0.3635 - val_accuracy: 0.8769 - lr: 1.0000e-04\n",
      "Epoch 15/50\n",
      "50334/50334 [==============================] - 242s 5ms/step - loss: 0.3654 - accuracy: 0.8770 - val_loss: 0.3634 - val_accuracy: 0.8769 - lr: 1.0000e-04\n",
      "Epoch 16/50\n",
      "50334/50334 [==============================] - 242s 5ms/step - loss: 0.3654 - accuracy: 0.8770 - val_loss: 0.3638 - val_accuracy: 0.8769 - lr: 1.0000e-04\n",
      "Epoch 17/50\n",
      "50334/50334 [==============================] - 244s 5ms/step - loss: 0.3654 - accuracy: 0.8770 - val_loss: 0.3635 - val_accuracy: 0.8769 - lr: 1.0000e-04\n",
      "Epoch 18/50\n",
      "50334/50334 [==============================] - 241s 5ms/step - loss: 0.3654 - accuracy: 0.8770 - val_loss: 0.3634 - val_accuracy: 0.8769 - lr: 1.0000e-04\n",
      "Epoch 19/50\n",
      "50334/50334 [==============================] - 243s 5ms/step - loss: 0.3654 - accuracy: 0.8770 - val_loss: 0.3635 - val_accuracy: 0.8769 - lr: 1.0000e-04\n",
      "Epoch 20/50\n",
      "50334/50334 [==============================] - 242s 5ms/step - loss: 0.3654 - accuracy: 0.8770 - val_loss: 0.3634 - val_accuracy: 0.8769 - lr: 1.0000e-04\n",
      "Epoch 21/50\n",
      "50334/50334 [==============================] - 241s 5ms/step - loss: 0.3654 - accuracy: 0.8770 - val_loss: 0.3634 - val_accuracy: 0.8769 - lr: 1.0000e-04\n",
      "Epoch 22/50\n",
      "50334/50334 [==============================] - 242s 5ms/step - loss: 0.3654 - accuracy: 0.8770 - val_loss: 0.3637 - val_accuracy: 0.8769 - lr: 1.0000e-04\n",
      "Epoch 23/50\n",
      "50334/50334 [==============================] - 240s 5ms/step - loss: 0.3654 - accuracy: 0.8770 - val_loss: 0.3635 - val_accuracy: 0.8769 - lr: 1.0000e-04\n",
      "Epoch 24/50\n",
      "50334/50334 [==============================] - 240s 5ms/step - loss: 0.3654 - accuracy: 0.8770 - val_loss: 0.3635 - val_accuracy: 0.8769 - lr: 1.0000e-04\n",
      "Epoch 25/50\n",
      "50334/50334 [==============================] - 241s 5ms/step - loss: 0.3654 - accuracy: 0.8770 - val_loss: 0.3644 - val_accuracy: 0.8769 - lr: 1.0000e-04\n"
     ]
    }
   ],
   "source": [
    "history3 = model3.fit(X_train, y_train, epochs=50,  batch_size=128, validation_split=0.2,\n",
    "                      callbacks=[early_stopping, reduce_lr])"
   ]
  },
  {
   "cell_type": "code",
   "execution_count": null,
   "metadata": {},
   "outputs": [],
   "source": [
    "# Predict probabilities on the test data\n",
    "predictions = model.predict(X_test)"
   ]
  },
  {
   "cell_type": "code",
   "execution_count": null,
   "metadata": {},
   "outputs": [],
   "source": []
  }
 ],
 "metadata": {
  "kernelspec": {
   "display_name": "bmw36",
   "language": "python",
   "name": "python3"
  },
  "language_info": {
   "codemirror_mode": {
    "name": "ipython",
    "version": 3
   },
   "file_extension": ".py",
   "mimetype": "text/x-python",
   "name": "python",
   "nbconvert_exporter": "python",
   "pygments_lexer": "ipython3",
   "version": "3.8.10"
  }
 },
 "nbformat": 4,
 "nbformat_minor": 2
}
