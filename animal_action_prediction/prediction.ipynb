{
 "cells": [
  {
   "cell_type": "code",
   "execution_count": 7,
   "metadata": {},
   "outputs": [],
   "source": [
    "import os\n",
    "import pandas as pd"
   ]
  },
  {
   "cell_type": "code",
   "execution_count": 8,
   "metadata": {},
   "outputs": [],
   "source": [
    "train = pd.read_csv('dataset/train.csv')\n",
    "test = pd.read_csv('dataset/test.csv')"
   ]
  },
  {
   "cell_type": "code",
   "execution_count": 11,
   "metadata": {},
   "outputs": [],
   "source": [
    "# train.info()\n",
    "# test.info()"
   ]
  },
  {
   "cell_type": "code",
   "execution_count": 12,
   "metadata": {},
   "outputs": [
    {
     "data": {
      "text/html": [
       "<div>\n",
       "<style scoped>\n",
       "    .dataframe tbody tr th:only-of-type {\n",
       "        vertical-align: middle;\n",
       "    }\n",
       "\n",
       "    .dataframe tbody tr th {\n",
       "        vertical-align: top;\n",
       "    }\n",
       "\n",
       "    .dataframe thead th {\n",
       "        text-align: right;\n",
       "    }\n",
       "</style>\n",
       "<table border=\"1\" class=\"dataframe\">\n",
       "  <thead>\n",
       "    <tr style=\"text-align: right;\">\n",
       "      <th></th>\n",
       "      <th>Instance_ID</th>\n",
       "      <th>Position_Part_1_x</th>\n",
       "      <th>Position_Part_1_y</th>\n",
       "      <th>Position_Part_1_z</th>\n",
       "      <th>Anonymous_F1_Part_1</th>\n",
       "      <th>Anonymous_F2_Part_1</th>\n",
       "      <th>Anonymous_F3_Part_1</th>\n",
       "      <th>Anonymous_F4_Part_1</th>\n",
       "      <th>Anonymous_F5_Part_1</th>\n",
       "      <th>Anonymous_F6_Part_1</th>\n",
       "      <th>...</th>\n",
       "      <th>Anonymous_W2</th>\n",
       "      <th>Anonymous_W3</th>\n",
       "      <th>Anonymous_W4</th>\n",
       "      <th>Anonymous_W5</th>\n",
       "      <th>Anonymous_W6</th>\n",
       "      <th>Anonymous_W7</th>\n",
       "      <th>Anonymous_W8</th>\n",
       "      <th>Anonymous_W9</th>\n",
       "      <th>Anonymous_W10</th>\n",
       "      <th>Action</th>\n",
       "    </tr>\n",
       "  </thead>\n",
       "  <tbody>\n",
       "    <tr>\n",
       "      <th>0</th>\n",
       "      <td>AR2375</td>\n",
       "      <td>1.377857</td>\n",
       "      <td>3.617222</td>\n",
       "      <td>2.205731</td>\n",
       "      <td>0.000109</td>\n",
       "      <td>-0.000293</td>\n",
       "      <td>0.000005</td>\n",
       "      <td>-0.000391</td>\n",
       "      <td>-0.000092</td>\n",
       "      <td>6.570000e-06</td>\n",
       "      <td>...</td>\n",
       "      <td>0.950818</td>\n",
       "      <td>2.346160</td>\n",
       "      <td>2.454801</td>\n",
       "      <td>3.437261</td>\n",
       "      <td>2.407838</td>\n",
       "      <td>52.955140</td>\n",
       "      <td>2.0</td>\n",
       "      <td>127.509441</td>\n",
       "      <td>2.299364</td>\n",
       "      <td>Other_Action</td>\n",
       "    </tr>\n",
       "    <tr>\n",
       "      <th>1</th>\n",
       "      <td>AR2731</td>\n",
       "      <td>4.016176</td>\n",
       "      <td>4.424115</td>\n",
       "      <td>1.646845</td>\n",
       "      <td>0.002463</td>\n",
       "      <td>-0.011534</td>\n",
       "      <td>0.000611</td>\n",
       "      <td>0.000109</td>\n",
       "      <td>-0.001978</td>\n",
       "      <td>1.965000e-05</td>\n",
       "      <td>...</td>\n",
       "      <td>1.787514</td>\n",
       "      <td>1.956207</td>\n",
       "      <td>4.529813</td>\n",
       "      <td>4.146509</td>\n",
       "      <td>1.956307</td>\n",
       "      <td>88.492969</td>\n",
       "      <td>3.0</td>\n",
       "      <td>180.522509</td>\n",
       "      <td>2.971618</td>\n",
       "      <td>Action_1</td>\n",
       "    </tr>\n",
       "    <tr>\n",
       "      <th>2</th>\n",
       "      <td>AR4074</td>\n",
       "      <td>3.861532</td>\n",
       "      <td>5.079124</td>\n",
       "      <td>1.837540</td>\n",
       "      <td>-0.001175</td>\n",
       "      <td>0.001799</td>\n",
       "      <td>0.000702</td>\n",
       "      <td>-0.000506</td>\n",
       "      <td>0.000367</td>\n",
       "      <td>2.382400e-04</td>\n",
       "      <td>...</td>\n",
       "      <td>1.920333</td>\n",
       "      <td>1.952239</td>\n",
       "      <td>4.541662</td>\n",
       "      <td>4.214273</td>\n",
       "      <td>1.979440</td>\n",
       "      <td>88.755989</td>\n",
       "      <td>3.0</td>\n",
       "      <td>181.365711</td>\n",
       "      <td>2.975980</td>\n",
       "      <td>Action_1</td>\n",
       "    </tr>\n",
       "    <tr>\n",
       "      <th>3</th>\n",
       "      <td>AR1608</td>\n",
       "      <td>4.755390</td>\n",
       "      <td>4.914315</td>\n",
       "      <td>2.274852</td>\n",
       "      <td>-0.019122</td>\n",
       "      <td>0.013624</td>\n",
       "      <td>-0.016509</td>\n",
       "      <td>0.001363</td>\n",
       "      <td>-0.000422</td>\n",
       "      <td>3.669810e-03</td>\n",
       "      <td>...</td>\n",
       "      <td>4.691525</td>\n",
       "      <td>2.589918</td>\n",
       "      <td>4.689303</td>\n",
       "      <td>4.955184</td>\n",
       "      <td>2.597950</td>\n",
       "      <td>121.461116</td>\n",
       "      <td>6.0</td>\n",
       "      <td>337.821700</td>\n",
       "      <td>3.481792</td>\n",
       "      <td>Other_Action</td>\n",
       "    </tr>\n",
       "    <tr>\n",
       "      <th>4</th>\n",
       "      <td>AR2395</td>\n",
       "      <td>1.358973</td>\n",
       "      <td>5.089811</td>\n",
       "      <td>2.289148</td>\n",
       "      <td>0.000030</td>\n",
       "      <td>-0.000136</td>\n",
       "      <td>-0.000097</td>\n",
       "      <td>-0.000003</td>\n",
       "      <td>0.000002</td>\n",
       "      <td>-3.200000e-07</td>\n",
       "      <td>...</td>\n",
       "      <td>0.904958</td>\n",
       "      <td>2.369225</td>\n",
       "      <td>2.442173</td>\n",
       "      <td>3.431435</td>\n",
       "      <td>2.409621</td>\n",
       "      <td>57.483774</td>\n",
       "      <td>2.0</td>\n",
       "      <td>139.297299</td>\n",
       "      <td>2.395829</td>\n",
       "      <td>Other_Action</td>\n",
       "    </tr>\n",
       "  </tbody>\n",
       "</table>\n",
       "<p>5 rows × 48 columns</p>\n",
       "</div>"
      ],
      "text/plain": [
       "  Instance_ID  Position_Part_1_x  Position_Part_1_y  Position_Part_1_z  \\\n",
       "0      AR2375           1.377857           3.617222           2.205731   \n",
       "1      AR2731           4.016176           4.424115           1.646845   \n",
       "2      AR4074           3.861532           5.079124           1.837540   \n",
       "3      AR1608           4.755390           4.914315           2.274852   \n",
       "4      AR2395           1.358973           5.089811           2.289148   \n",
       "\n",
       "   Anonymous_F1_Part_1  Anonymous_F2_Part_1  Anonymous_F3_Part_1  \\\n",
       "0             0.000109            -0.000293             0.000005   \n",
       "1             0.002463            -0.011534             0.000611   \n",
       "2            -0.001175             0.001799             0.000702   \n",
       "3            -0.019122             0.013624            -0.016509   \n",
       "4             0.000030            -0.000136            -0.000097   \n",
       "\n",
       "   Anonymous_F4_Part_1  Anonymous_F5_Part_1  Anonymous_F6_Part_1  ...  \\\n",
       "0            -0.000391            -0.000092         6.570000e-06  ...   \n",
       "1             0.000109            -0.001978         1.965000e-05  ...   \n",
       "2            -0.000506             0.000367         2.382400e-04  ...   \n",
       "3             0.001363            -0.000422         3.669810e-03  ...   \n",
       "4            -0.000003             0.000002        -3.200000e-07  ...   \n",
       "\n",
       "   Anonymous_W2  Anonymous_W3  Anonymous_W4  Anonymous_W5  Anonymous_W6  \\\n",
       "0      0.950818      2.346160      2.454801      3.437261      2.407838   \n",
       "1      1.787514      1.956207      4.529813      4.146509      1.956307   \n",
       "2      1.920333      1.952239      4.541662      4.214273      1.979440   \n",
       "3      4.691525      2.589918      4.689303      4.955184      2.597950   \n",
       "4      0.904958      2.369225      2.442173      3.431435      2.409621   \n",
       "\n",
       "   Anonymous_W7  Anonymous_W8  Anonymous_W9  Anonymous_W10        Action  \n",
       "0     52.955140           2.0    127.509441       2.299364  Other_Action  \n",
       "1     88.492969           3.0    180.522509       2.971618      Action_1  \n",
       "2     88.755989           3.0    181.365711       2.975980      Action_1  \n",
       "3    121.461116           6.0    337.821700       3.481792  Other_Action  \n",
       "4     57.483774           2.0    139.297299       2.395829  Other_Action  \n",
       "\n",
       "[5 rows x 48 columns]"
      ]
     },
     "execution_count": 12,
     "metadata": {},
     "output_type": "execute_result"
    }
   ],
   "source": [
    "train.head()"
   ]
  },
  {
   "cell_type": "code",
   "execution_count": 13,
   "metadata": {},
   "outputs": [
    {
     "data": {
      "text/plain": [
       "Other_Action    3025\n",
       "Action_1        1512\n",
       "Action_2         517\n",
       "Name: Action, dtype: int64"
      ]
     },
     "execution_count": 13,
     "metadata": {},
     "output_type": "execute_result"
    }
   ],
   "source": [
    "train['Action'].value_counts()"
   ]
  },
  {
   "cell_type": "code",
   "execution_count": 14,
   "metadata": {},
   "outputs": [
    {
     "data": {
      "text/plain": [
       "array(['Other_Action', 'Action_1', 'Action_2'], dtype=object)"
      ]
     },
     "execution_count": 14,
     "metadata": {},
     "output_type": "execute_result"
    }
   ],
   "source": [
    "train['Action'].unique()"
   ]
  },
  {
   "cell_type": "code",
   "execution_count": null,
   "metadata": {},
   "outputs": [],
   "source": []
  }
 ],
 "metadata": {
  "kernelspec": {
   "display_name": "Python 3",
   "language": "python",
   "name": "python3"
  },
  "language_info": {
   "codemirror_mode": {
    "name": "ipython",
    "version": 3
   },
   "file_extension": ".py",
   "mimetype": "text/x-python",
   "name": "python",
   "nbconvert_exporter": "python",
   "pygments_lexer": "ipython3",
   "version": "3.8.10"
  }
 },
 "nbformat": 4,
 "nbformat_minor": 2
}
